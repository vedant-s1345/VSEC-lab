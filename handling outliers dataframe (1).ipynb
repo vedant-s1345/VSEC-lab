{
 "cells": [
  {
   "cell_type": "code",
   "execution_count": 2,
   "id": "54c507f0-802e-4631-b155-41eb3474d00d",
   "metadata": {},
   "outputs": [],
   "source": [
    "import pandas as pd\n",
    "import numpy as np\n",
    "import matplotlib.pyplot as plt\n",
    "import seaborn as sns\n",
    "%matplotlib inline"
   ]
  },
  {
   "cell_type": "code",
   "execution_count": 7,
   "id": "9cb38045-6354-45c4-8063-64cc2bd5d4f4",
   "metadata": {},
   "outputs": [
    {
     "name": "stdout",
     "output_type": "stream",
     "text": [
      "       col1\n",
      "0  0.458461\n",
      "1  0.433225\n",
      "2  0.407988\n",
      "3  0.382752\n",
      "4  0.357515\n",
      "5  2.039941\n",
      "Original Data:\n",
      "    col1\n",
      "0     1\n",
      "1     2\n",
      "2     3\n",
      "3     4\n",
      "4     5\n",
      "5   100\n",
      "\n",
      "Outliers Removed Data:\n",
      "    col1\n",
      "0     1\n",
      "1     2\n",
      "2     3\n",
      "3     4\n",
      "4     5\n"
     ]
    },
    {
     "data": {
      "image/png": "[encoded data removed]",
      "text/plain": [
       "<Figure size 640x480 with 1 Axes>"
      ]
     },
     "metadata": {},
     "output_type": "display_data"
    }
   ],
   "source": [
    "import pandas as pd\n",
    "#Example data\n",
    "data=pd.DataFrame({\n",
    "    'col1':[1,2,3,4,5,100],#Notice 100 is an outlier\n",
    "})\n",
    "sns.boxplot(data)\n",
    "\n",
    "#1.Calculate the Z-scores for each column\n",
    "z_scores=np.abs((data - data.mean())/data.std())\n",
    "print(z_scores)\n",
    "\n",
    "#2.Set the threshold for outliers\n",
    "threshold=1\n",
    "\n",
    "#3. Filter rows where all Z-scores are below the threshold\n",
    "outliers_removed=(z_scores < threshold).all(axis=1)\n",
    "\n",
    "#4. Apply the filter to the original data\n",
    "cleaned_data=data[outliers_removed]\n",
    " C\n",
    "#print results\n",
    "print(\"Original Data:\\n\",data)\n",
    "print(\"\\nOutliers Removed Data:\\n\",cleaned_data)"
   ]
  },
  {
   "cell_type": "code",
   "execution_count": 9,
   "id": "7998aec2-d245-4f6e-88c0-3fcb62dcecd0",
   "metadata": {},
   "outputs": [
    {
     "name": "stdout",
     "output_type": "stream",
     "text": [
      "       col1      col2\n",
      "0  0.458461  0.433175\n",
      "1  0.433225  0.420680\n",
      "2  0.407988  0.408185\n",
      "3  0.382752  2.040923\n",
      "4  0.357515  0.383194\n",
      "5  2.039941  0.395689\n",
      "Original Data:\n",
      "    col1  col2\n",
      "0     1     2\n",
      "1     2     3\n",
      "2     3     4\n",
      "3     4   200\n",
      "4     5     6\n",
      "5   100     5\n",
      "\n",
      "Outliers Removed Data:\n",
      "    col1  col2\n",
      "0     1     2\n",
      "1     2     3\n",
      "2     3     4\n",
      "4     5     6\n"
     ]
    },
    {
     "data": {
      "image/png": "[encoded data removed]",
      "text/plain": [
       "<Figure size 640x480 with 1 Axes>"
      ]
     },
     "metadata": {},
     "output_type": "display_data"
    }
   ],
   "source": [
    "sns.boxplot(cleaned_data)\n",
    "\n",
    "#Example data\n",
    "data=pd.DataFrame({\n",
    "    'col1':[1,2,3,4,5,100], #Notice 100 is an outlier\n",
    "    'col2':[2,3,4,200,6,5]  #Notice 200 is an outlier\n",
    "})\n",
    "\n",
    "#1. Calculate the Z-scores for each column\n",
    "z_scores=np.abs((data-data.mean())/data.std())\n",
    "print(z_scores)\n",
    "\n",
    "#2. Set the threshold for the outliers\n",
    "threshold=2\n",
    "\n",
    "#3. Filter rows ehere all Z-scores are below the threshold\n",
    "outliers_removed=(z_scores < threshold).all(axis=1)\n",
    "\n",
    "#4. Apply the filter to the original data\n",
    "cleaned_data=data[outliers_removed]\n",
    "\n",
    "# Print results\n",
    "print(\"Original Data:\\n\",data)\n",
    "print(\"\\nOutliers Removed Data:\\n\",cleaned_data)\n"
   ]
  },
  {
   "cell_type": "code",
   "execution_count": 5,
   "id": "66533ae0-26a9-49a9-9da5-72dd53a5490c",
   "metadata": {},
   "outputs": [
    {
     "name": "stdout",
     "output_type": "stream",
     "text": [
      "col1     int64\n",
      "col2     int64\n",
      "col3    object\n",
      "dtype: object\n",
      "Index(['col1', 'col2'], dtype='object')\n",
      "       col1      col2\n",
      "0  0.458461  0.433175\n",
      "1  0.433225  0.420680\n",
      "2  0.407988  0.408185\n",
      "3  0.382752  2.040923\n",
      "4  0.357515  0.383194\n",
      "5  2.039941  0.395689\n",
      "0     True\n",
      "1     True\n",
      "2     True\n",
      "3    False\n",
      "4     True\n",
      "5    False\n",
      "dtype: bool\n",
      "Original Data:\n",
      "    col1  col2 col3\n",
      "0     1     2    a\n",
      "1     2     3    b\n",
      "2     3     4    c\n",
      "3     4   200    d\n",
      "4     5     6    e\n",
      "5   100     5    f\n",
      "\n",
      "Outliers Removed Data:\n",
      "    col1  col2 col3\n",
      "0     1     2    a\n",
      "1     2     3    b\n",
      "2     3     4    c\n",
      "4     5     6    e\n"
     ]
    }
   ],
   "source": [
    "import pandas as pd\n",
    "import numpy as np\n",
    "#Example data\n",
    "data=pd.DataFrame({\n",
    "    'col1':[1,2,3,4,5,100], #Notice 100 is an outlier\n",
    "    'col2':[2,3,4,200,6,5],  #Notice 200 is an outlier\n",
    "    'col3':['a','b','c','d','e','f']\n",
    "})\n",
    "print(data.dtypes)\n",
    "numeric_df=data.select_dtypes(include=[np.number])\n",
    "\n",
    "#1. Calculate the Z-scores for each column\n",
    "print(numeric_df.columns)\n",
    "z_scores=np.abs((numeric_df-numeric_df.mean())/numeric_df.std())\n",
    "print(z_scores)\n",
    "\n",
    "#2. Set the threshold for outliers\n",
    "threshold=2\n",
    "\n",
    "#3. Filter rows ehere all Z-scores are below the threshold\n",
    "outliers_removed=(z_scores < threshold).all(axis=1)\n",
    "print(outliers_removed)\n",
    "#4. Apply the filter to the original data\n",
    "cleaned_data=data[outliers_removed]\n",
    "\n",
    "# Print results\n",
    "print(\"Original Data:\\n\",data)\n",
    "print(\"\\nOutliers Removed Data:\\n\",cleaned_data)\n"
   ]
  },
  {
   "cell_type": "code",
   "execution_count": 7,
   "id": "d96ef476-f13f-44a2-b1da-95b98cb25f51",
   "metadata": {},
   "outputs": [
    {
     "name": "stdout",
     "output_type": "stream",
     "text": [
      "state                             object\n",
      "account_length                     int64\n",
      "area_code                          int64\n",
      "phone_number                      object\n",
      "intl_plan                         object\n",
      "voice_mail_plan                   object\n",
      "number_vmail_messages              int64\n",
      "total_day_minutes                float64\n",
      "total_day_calls                    int64\n",
      "total_day_charge                 float64\n",
      "total_eve_minutes                float64\n",
      "total_eve_calls                    int64\n",
      "total_eve_charge                 float64\n",
      "total_night_minutes              float64\n",
      "total_night_calls                  int64\n",
      "total_night_charge               float64\n",
      "total_intl_minutes               float64\n",
      "total_intl_calls                   int64\n",
      "total_intl_charge                float64\n",
      "number_customer_service_calls      int64\n",
      "churned                             bool\n",
      "dtype: object\n",
      "(5000, 21)\n",
      "  state  account_length  area_code phone_number intl_plan voice_mail_plan  \\\n",
      "0    KS             128        415     382-4657        no             yes   \n",
      "1    OH             107        415     371-7191        no             yes   \n",
      "2    NJ             137        415     358-1921        no              no   \n",
      "3    OH              84        408     375-9999       yes              no   \n",
      "4    OK              75        415     330-6626       yes              no   \n",
      "\n",
      "   number_vmail_messages  total_day_minutes  total_day_calls  \\\n",
      "0                     25              265.1              110   \n",
      "1                     26              161.6              123   \n",
      "2                      0              243.4              114   \n",
      "3                      0              299.4               71   \n",
      "4                      0              166.7              113   \n",
      "\n",
      "   total_day_charge  ...  total_eve_calls  total_eve_charge  \\\n",
      "0             45.07  ...               99             16.78   \n",
      "1             27.47  ...              103             16.62   \n",
      "2             41.38  ...              110             10.30   \n",
      "3             50.90  ...               88              5.26   \n",
      "4             28.34  ...              122             12.61   \n",
      "\n",
      "   total_night_minutes  total_night_calls  total_night_charge  \\\n",
      "0                244.7                 91               11.01   \n",
      "1                254.4                103               11.45   \n",
      "2                162.6                104                7.32   \n",
      "3                196.9                 89                8.86   \n",
      "4                186.9                121                8.41   \n",
      "\n",
      "   total_intl_minutes  total_intl_calls  total_intl_charge  \\\n",
      "0                10.0                 3               2.70   \n",
      "1                13.7                 3               3.70   \n",
      "2                12.2                 5               3.29   \n",
      "3                 6.6                 7               1.78   \n",
      "4                10.1                 3               2.73   \n",
      "\n",
      "   number_customer_service_calls  churned  \n",
      "0                              1    False  \n",
      "1                              1    False  \n",
      "2                              0    False  \n",
      "3                              2    False  \n",
      "4                              3    False  \n",
      "\n",
      "[5 rows x 21 columns]\n"
     ]
    }
   ],
   "source": [
    "df=pd.read_csv(\"Orange_Telecom_Churn_Data.csv\")\n",
    "print(df.dtypes)\n",
    "print(df.shape)\n",
    "print(df.head())"
   ]
  },
  {
   "cell_type": "code",
   "execution_count": 9,
   "id": "b09064dc-2982-4b6d-a038-9d4a266abded",
   "metadata": {},
   "outputs": [
    {
     "data": {
      "text/plain": [
       "state                             object\n",
       "account_length                     int64\n",
       "area_code                         object\n",
       "phone_number                      object\n",
       "intl_plan                         object\n",
       "voice_mail_plan                   object\n",
       "number_vmail_messages              int64\n",
       "total_day_minutes                float64\n",
       "total_day_calls                    int64\n",
       "total_day_charge                 float64\n",
       "total_eve_minutes                float64\n",
       "total_eve_calls                    int64\n",
       "total_eve_charge                 float64\n",
       "total_night_minutes              float64\n",
       "total_night_calls                  int64\n",
       "total_night_charge               float64\n",
       "total_intl_minutes               float64\n",
       "total_intl_calls                   int64\n",
       "total_intl_charge                float64\n",
       "number_customer_service_calls      int64\n",
       "churned                             bool\n",
       "dtype: object"
      ]
     },
     "execution_count": 9,
     "metadata": {},
     "output_type": "execute_result"
    }
   ],
   "source": [
    "#change the numeric type to categorical variables\n",
    "df['area_code']=df['area_code'].astype('object')\n",
    "df.dtypes"
   ]
  },
  {
   "cell_type": "code",
   "execution_count": 15,
   "id": "abeece23-0b7f-46bd-9f04-66eeb1407625",
   "metadata": {},
   "outputs": [
    {
     "ename": "NameError",
     "evalue": "name 'sns' is not defined",
     "output_type": "error",
     "traceback": [
      "\u001b[1;31m---------------------------------------------------------------------------\u001b[0m",
      "\u001b[1;31mNameError\u001b[0m                                 Traceback (most recent call last)",
      "Cell \u001b[1;32mIn[15], line 1\u001b[0m\n\u001b[1;32m----> 1\u001b[0m sns\u001b[38;5;241m.\u001b[39mboxplot(df)\n",
      "\u001b[1;31mNameError\u001b[0m: name 'sns' is not defined"
     ]
    }
   ],
   "source": [
    "sns.boxplot(df)"
   ]
  },
  {
   "cell_type": "code",
   "execution_count": null,
   "id": "130565a5-145c-477d-a90b-f885c26a8205",
   "metadata": {},
   "outputs": [],
   "source": []
  }
 ],
 "metadata": {
  "kernelspec": {
   "display_name": "Python 3 (ipykernel)",
   "language": "python",
   "name": "python3"
  },
  "language_info": {
   "codemirror_mode": {
    "name": "ipython",
    "version": 3
   },
   "file_extension": ".py",
   "mimetype": "text/x-python",
   "name": "python",
   "nbconvert_exporter": "python",
   "pygments_lexer": "ipython3",
   "version": "3.12.4"
  }
 },
 "nbformat": 4,
 "nbformat_minor": 5
}
