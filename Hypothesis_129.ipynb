{
 "cells": [
  {
   "cell_type": "code",
   "execution_count": 1,
   "id": "191c42d6-448e-4d7f-8c6f-22a2b1e71d04",
   "metadata": {},
   "outputs": [
    {
     "name": "stdout",
     "output_type": "stream",
     "text": [
      "Sample mean:49.9\n",
      "Population mean:50\n",
      "t-test statistic: -0.14834045293024678\n",
      "p-value: 0.8853445175545813\n",
      "Fail to reject the  null hypothesis (p-value>=0.05)\n"
     ]
    }
   ],
   "source": [
    "import scipy.stats as stats\n",
    "import numpy as np\n",
    "\n",
    "def hypothesis_test(sample,population_mean,alpha, known_population_std=None):\n",
    "    #Calculate sample mean and sample standard deviation\n",
    "    sample_mean=np.mean(sample)\n",
    "    sample_size=len(sample)\n",
    "    sample_std=np.std(sample,ddof=1)\n",
    "\n",
    "    #check if population standard deviation is known or unknown\n",
    "    if known_population_std is not None:\n",
    "        # Z-test (known population standard deviation)\n",
    "        z_stat=(sample_mean - population_mean) / (known_population_std / np.sqrt(sample_size))\n",
    "        p_value= 2*(1-stats.norm.cdf(abs(z_stat)))  #two-tailed p-value\n",
    "        test_stat=z_stat\n",
    "        test_type=\"Z-test\"\n",
    "\n",
    "    else:\n",
    "        #t-test (unknown population standard deviation)\n",
    "        t_stat =(sample_mean - population_mean) / (sample_std / np.sqrt(sample_size))\n",
    "        p_value= 2*(1-stats.t.cdf(abs(t_stat), df=sample_size-1))  #two-tailed p-value\n",
    "        test_stat=t_stat\n",
    "        test_type=\"t-test\"\n",
    "    #print results\n",
    "    print(f\"Sample mean:{sample_mean}\")\n",
    "    print(f\"Population mean:{population_mean}\")\n",
    "    print(f\"{test_type} statistic: {test_stat}\")\n",
    "    print(f\"p-value: {p_value}\")\n",
    "\n",
    "    #compare p-value with alpha\n",
    "    if p_value < alpha:\n",
    "        print(f\"Reject the null hypothesis (p-value <{alpha})\")\n",
    "    else: \n",
    "        print(F\"Fail to reject the  null hypothesis (p-value>={alpha})\")\n",
    "\n",
    "#Example usage:\n",
    "sample_data=[50,52,48,47,51,49,50,53,52,47] #Example sample data\n",
    "population_mean=50 #known population mean\n",
    "alpha=0.05 #Significance level\n",
    "\n",
    "#perform hypothesis test\n",
    "hypothesis_test(sample_data,population_mean,alpha,known_population_std=None) #use none for unknown population std"
   ]
  },
  {
   "cell_type": "code",
   "execution_count": null,
   "id": "61d811ac-1660-4b02-b790-824a99529654",
   "metadata": {},
   "outputs": [],
   "source": []
  }
 ],
 "metadata": {
  "kernelspec": {
   "display_name": "Python 3 (ipykernel)",
   "language": "python",
   "name": "python3"
  },
  "language_info": {
   "codemirror_mode": {
    "name": "ipython",
    "version": 3
   },
   "file_extension": ".py",
   "mimetype": "text/x-python",
   "name": "python",
   "nbconvert_exporter": "python",
   "pygments_lexer": "ipython3",
   "version": "3.12.4"
  }
 },
 "nbformat": 4,
 "nbformat_minor": 5
}
