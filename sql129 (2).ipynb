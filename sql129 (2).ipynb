{
 "cells": [
  {
   "cell_type": "code",
   "execution_count": 48,
   "id": "4230a131-c4cb-483f-8122-4dccbf85ec21",
   "metadata": {},
   "outputs": [
    {
     "ename": "SyntaxError",
     "evalue": "invalid syntax (603967800.py, line 26)",
     "output_type": "error",
     "traceback": [
      "\u001b[1;36m  Cell \u001b[1;32mIn[48], line 26\u001b[1;36m\u001b[0m\n\u001b[1;33m    delete from students where id='1';\u001b[0m\n\u001b[1;37m           ^\u001b[0m\n\u001b[1;31mSyntaxError\u001b[0m\u001b[1;31m:\u001b[0m invalid syntax\n"
     ]
    }
   ],
   "source": [
    "import sqlite3\n",
    "conn=sqlite3.connect('C:/Users/Pccoe/Desktop/123B1F129/data_science/sample.db')\n",
    "cur=conn.cursor()\n",
    "cur.execute('''CREATE TABLE IF NOT EXISTS students(\n",
    "                id INTEGER PRIMARY KEY AUTOINCREMENT,\n",
    "                name TEXT NOT NULL,\n",
    "                age INTEGER,\n",
    "                grade TEXT\n",
    "                )''')\n",
    "\n",
    "#INSERT SAMPLE DATA INTO THE TABLE\n",
    "cur.execute(\"insert into students (name,age,grade) VALUES ('abc',22,'A')\")\n",
    "cur.execute(\"insert into students (name,age,grade) VALUES ('pqr',33,'B')\")\n",
    "cur.execute(\"insert into students (name,age,grade) VALUES ('xyz',11,'A')\")\n",
    "\n",
    "#COMMIT THE CHANGES\n",
    "conn.commit()\n",
    "\n",
    "#step 5: Query the data to ensure it's correctly inserted\n",
    "cur.execute(\"SELECT * FROM students\")\n",
    "rows=cur.fetchall()\n",
    "\n",
    "#Display THE results \n",
    "for row in rows:\n",
    "    print(row)\n",
    "\n",
    "#close the connection to the database\n"
   ]
  },
  {
   "cell_type": "code",
   "execution_count": 42,
   "id": "f0cae90a-f8af-4af7-909c-6b50a06b1600",
   "metadata": {},
   "outputs": [
    {
     "name": "stdout",
     "output_type": "stream",
     "text": [
      "    id name  age grade\n",
      "0    1  ABC   22     A\n",
      "1    2  PQR   33     B\n",
      "2    3  XYZ   11     A\n",
      "3    4  ABC   22     A\n",
      "4    5  PQR   33     B\n",
      "5    6  XYZ   11     A\n",
      "6    7  abc   22     A\n",
      "7    8  pqr   33     B\n",
      "8    9  xyz   11     A\n",
      "9   10  abc   22     A\n",
      "10  11  pqr   33     B\n",
      "11  12  xyz   11     A\n"
     ]
    }
   ],
   "source": [
    "import pandas as pd\n",
    "conn=sqlite3.connect('C:/Users/Pccoe/Desktop/123B1F129/data_science/sample.db')\n",
    "query=\"select * FROM students\"\n",
    "df=pd.read_sql_query(query,conn)\n",
    "print(df)"
   ]
  },
  {
   "cell_type": "code",
   "execution_count": 52,
   "id": "629e59ad-e31b-4418-b2e6-bfdeeaca9627",
   "metadata": {},
   "outputs": [
    {
     "ename": "SyntaxError",
     "evalue": "invalid syntax (3014834536.py, line 6)",
     "output_type": "error",
     "traceback": [
      "\u001b[1;36m  Cell \u001b[1;32mIn[52], line 6\u001b[1;36m\u001b[0m\n\u001b[1;33m    delete from students where id='1';\u001b[0m\n\u001b[1;37m           ^\u001b[0m\n\u001b[1;31mSyntaxError\u001b[0m\u001b[1;31m:\u001b[0m invalid syntax\n"
     ]
    }
   ],
   "source": [
    "# UPDATE Customers\n",
    "# SET ContactName = 'Alfred Schmidt', City= 'Frankfurt'\n",
    "# WHERE CustomerID = 1;\n",
    "cur.execute(\"SELECT * FROM students\")\n",
    "rows=cur.fetchall()\n",
    "delete from students where id='1';\n",
    "\n",
    "for row in rows:\n",
    "    print(row)"
   ]
  },
  {
   "cell_type": "code",
   "execution_count": null,
   "id": "7cf5509e-28d0-4271-8ad6-947ff797ed7f",
   "metadata": {},
   "outputs": [],
   "source": []
  },
  {
   "cell_type": "code",
   "execution_count": null,
   "id": "38800dfa-51e3-4270-8939-1b61ba2de8f8",
   "metadata": {},
   "outputs": [],
   "source": []
  },
  {
   "cell_type": "code",
   "execution_count": null,
   "id": "f4e542eb-d26b-4050-b7f3-ab3c2d39a740",
   "metadata": {},
   "outputs": [],
   "source": []
  }
 ],
 "metadata": {
  "kernelspec": {
   "display_name": "Python 3 (ipykernel)",
   "language": "python",
   "name": "python3"
  },
  "language_info": {
   "codemirror_mode": {
    "name": "ipython",
    "version": 3
   },
   "file_extension": ".py",
   "mimetype": "text/x-python",
   "name": "python",
   "nbconvert_exporter": "python",
   "pygments_lexer": "ipython3",
   "version": "3.12.4"
  }
 },
 "nbformat": 4,
 "nbformat_minor": 5
}
