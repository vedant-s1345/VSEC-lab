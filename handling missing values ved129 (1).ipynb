{
 "cells": [
  {
   "cell_type": "code",
   "execution_count": 3,
   "id": "e4cd1df6-6b8e-4a4a-8e33-918c06238c62",
   "metadata": {},
   "outputs": [],
   "source": [
    "import pandas as pd\n",
    "import numpy as np\n",
    "import matplotlib.pyplot as plt\n",
    "import seaborn as sns\n",
    "%matplotlib inline"
   ]
  },
  {
   "cell_type": "code",
   "execution_count": 13,
   "id": "69112895-356b-4164-832a-d52707d89629",
   "metadata": {},
   "outputs": [],
   "source": [
    "url='heart (1).csv'\n",
    "df=pd.read_csv(url)"
   ]
  },
  {
   "cell_type": "code",
   "execution_count": 15,
   "id": "a3a53925-01ea-4758-a584-d9d44bc2b598",
   "metadata": {},
   "outputs": [
    {
     "name": "stdout",
     "output_type": "stream",
     "text": [
      "(303, 14)\n",
      "<class 'pandas.core.frame.DataFrame'>\n",
      "RangeIndex: 303 entries, 0 to 302\n",
      "Data columns (total 14 columns):\n",
      " #   Column    Non-Null Count  Dtype  \n",
      "---  ------    --------------  -----  \n",
      " 0   age       303 non-null    int64  \n",
      " 1   gender    303 non-null    int64  \n",
      " 2   cp        303 non-null    int64  \n",
      " 3   trestbps  303 non-null    int64  \n",
      " 4   chol      303 non-null    int64  \n",
      " 5   fbs       303 non-null    int64  \n",
      " 6   restecg   303 non-null    int64  \n",
      " 7   thalach   303 non-null    int64  \n",
      " 8   exang     303 non-null    int64  \n",
      " 9   oldpeak   303 non-null    float64\n",
      " 10  slope     303 non-null    int64  \n",
      " 11  ca        303 non-null    int64  \n",
      " 12  thal      303 non-null    int64  \n",
      " 13  target    303 non-null    int64  \n",
      "dtypes: float64(1), int64(13)\n",
      "memory usage: 33.3 KB\n",
      "None\n"
     ]
    }
   ],
   "source": [
    "print(df.shape)\n",
    "print(df.info())"
   ]
  },
  {
   "cell_type": "code",
   "execution_count": 17,
   "id": "bc368ce5-3cbd-4808-958c-c5d98fc661fd",
   "metadata": {},
   "outputs": [
    {
     "name": "stdout",
     "output_type": "stream",
     "text": [
      "   age  gender  cp  trestbps  chol  fbs  restecg  thalach  exang  oldpeak  \\\n",
      "0   63       1   3       145   233    1        0      150      0      2.3   \n",
      "1   37       1   2       130   250    0        1      187      0      3.5   \n",
      "2   41       0   1       130   204    0        0      172      0      1.4   \n",
      "3   56       1   1       120   236    0        1      178      0      0.8   \n",
      "4   57       0   0       120   354    0        1      163      1      0.6   \n",
      "\n",
      "   slope  ca  thal  target  \n",
      "0      0   0     1       1  \n",
      "1      0   0     2       1  \n",
      "2      2   0     2       1  \n",
      "3      2   0     2       1  \n",
      "4      2   0     2       1  \n"
     ]
    }
   ],
   "source": [
    "print(df.head())"
   ]
  },
  {
   "cell_type": "code",
   "execution_count": 19,
   "id": "184ba9af-80c7-495c-8449-c693c232afec",
   "metadata": {},
   "outputs": [
    {
     "data": {
      "text/plain": [
       "age           int64\n",
       "gender        int64\n",
       "cp            int64\n",
       "trestbps      int64\n",
       "chol          int64\n",
       "fbs           int64\n",
       "restecg       int64\n",
       "thalach       int64\n",
       "exang         int64\n",
       "oldpeak     float64\n",
       "slope         int64\n",
       "ca            int64\n",
       "thal          int64\n",
       "target        int64\n",
       "dtype: object"
      ]
     },
     "execution_count": 19,
     "metadata": {},
     "output_type": "execute_result"
    }
   ],
   "source": [
    "df.dtypes"
   ]
  },
  {
   "cell_type": "code",
   "execution_count": 21,
   "id": "174bf7ad-a4bb-4010-aca5-274d76e3b4d9",
   "metadata": {},
   "outputs": [
    {
     "data": {
      "text/plain": [
       "age          41\n",
       "gender        2\n",
       "cp            4\n",
       "trestbps     49\n",
       "chol        152\n",
       "fbs           2\n",
       "restecg       3\n",
       "thalach      91\n",
       "exang         2\n",
       "oldpeak      40\n",
       "slope         3\n",
       "ca            5\n",
       "thal          4\n",
       "target        2\n",
       "dtype: int64"
      ]
     },
     "execution_count": 21,
     "metadata": {},
     "output_type": "execute_result"
    }
   ],
   "source": [
    "# to know unique values\n",
    "df.nunique()"
   ]
  },
  {
   "cell_type": "code",
   "execution_count": 25,
   "id": "92c6b4b2-f0f5-4538-b01b-1023f6eec48f",
   "metadata": {},
   "outputs": [
    {
     "data": {
      "text/plain": [
       "age           int64\n",
       "gender      float64\n",
       "cp           object\n",
       "trestbps      int64\n",
       "chol          int64\n",
       "fbs          object\n",
       "restecg      object\n",
       "thalach       int64\n",
       "exang        object\n",
       "oldpeak     float64\n",
       "slope        object\n",
       "ca           object\n",
       "thal         object\n",
       "target        int64\n",
       "dtype: object"
      ]
     },
     "execution_count": 25,
     "metadata": {},
     "output_type": "execute_result"
    }
   ],
   "source": [
    "# change the numeric type to categorical variables\n",
    "df['gender'] = df['gender'].astype('float')\n",
    "df['cp'] = df['cp'].astype('object')\n",
    "df['fbs'] = df['fbs'].astype('object')\n",
    "df['restecg'] = df['restecg'].astype('object')\n",
    "df['exang'] = df['exang'].astype('object')\n",
    "df['slope'] = df['slope'].astype('object')\n",
    "df['ca'] = df['ca'].astype('object')\n",
    "df['thal'] = df['thal'].astype('object')\n",
    "df.dtypes"
   ]
  },
  {
   "cell_type": "code",
   "execution_count": 27,
   "id": "28634f71-bd26-49af-88ea-b1eb3864b5c5",
   "metadata": {},
   "outputs": [
    {
     "name": "stdout",
     "output_type": "stream",
     "text": [
      "   age  gender cp  trestbps  chol fbs restecg  thalach exang  oldpeak slope  \\\n",
      "0   63     1.0  3       145   233   1       0      150     0      2.3     0   \n",
      "1   37     1.0  2       130   250   0       1      187     0      3.5     0   \n",
      "2   41     0.0  1       130   204   0       0      172     0      1.4     2   \n",
      "3   56     1.0  1       120   236   0       1      178     0      0.8     2   \n",
      "4   57     0.0  0       120   354   0       1      163     1      0.6     2   \n",
      "\n",
      "  ca thal  target  \n",
      "0  0    1       1  \n",
      "1  0    2       1  \n",
      "2  0    2       1  \n",
      "3  0    2       1  \n",
      "4  0    2       1  \n"
     ]
    }
   ],
   "source": [
    "print(df.head())"
   ]
  },
  {
   "cell_type": "code",
   "execution_count": 29,
   "id": "7bf4f8b1-9e6e-42b5-bea3-71dd11f0b019",
   "metadata": {},
   "outputs": [
    {
     "data": {
      "text/plain": [
       "age         0\n",
       "gender      0\n",
       "cp          0\n",
       "trestbps    0\n",
       "chol        0\n",
       "fbs         0\n",
       "restecg     0\n",
       "thalach     0\n",
       "exang       0\n",
       "oldpeak     0\n",
       "slope       0\n",
       "ca          0\n",
       "thal        0\n",
       "target      0\n",
       "dtype: int64"
      ]
     },
     "execution_count": 29,
     "metadata": {},
     "output_type": "execute_result"
    }
   ],
   "source": [
    "df.isnull().sum()"
   ]
  },
  {
   "cell_type": "code",
   "execution_count": 31,
   "id": "2d9f9e57-71de-4120-8691-98894b3e3dff",
   "metadata": {},
   "outputs": [
    {
     "data": {
      "text/plain": [
       "array([0, 2, 1, 3, 4], dtype=object)"
      ]
     },
     "execution_count": 31,
     "metadata": {},
     "output_type": "execute_result"
    }
   ],
   "source": [
    "df['ca'].unique()"
   ]
  },
  {
   "cell_type": "code",
   "execution_count": 33,
   "id": "8606928c-6739-4d53-a88a-cb6e3585894a",
   "metadata": {},
   "outputs": [
    {
     "name": "stdout",
     "output_type": "stream",
     "text": [
      "ca\n",
      "0    175\n",
      "1     65\n",
      "2     38\n",
      "3     20\n",
      "4      5\n",
      "Name: count, dtype: int64\n"
     ]
    },
    {
     "data": {
      "text/html": [
       "<div>\n",
       "<style scoped>\n",
       "    .dataframe tbody tr th:only-of-type {\n",
       "        vertical-align: middle;\n",
       "    }\n",
       "\n",
       "    .dataframe tbody tr th {\n",
       "        vertical-align: top;\n",
       "    }\n",
       "\n",
       "    .dataframe thead th {\n",
       "        text-align: right;\n",
       "    }\n",
       "</style>\n",
       "<table border=\"1\" class=\"dataframe\">\n",
       "  <thead>\n",
       "    <tr style=\"text-align: right;\">\n",
       "      <th></th>\n",
       "      <th>age</th>\n",
       "      <th>gender</th>\n",
       "      <th>cp</th>\n",
       "      <th>trestbps</th>\n",
       "      <th>chol</th>\n",
       "      <th>fbs</th>\n",
       "      <th>restecg</th>\n",
       "      <th>thalach</th>\n",
       "      <th>exang</th>\n",
       "      <th>oldpeak</th>\n",
       "      <th>slope</th>\n",
       "      <th>ca</th>\n",
       "      <th>thal</th>\n",
       "      <th>target</th>\n",
       "    </tr>\n",
       "  </thead>\n",
       "  <tbody>\n",
       "    <tr>\n",
       "      <th>92</th>\n",
       "      <td>52</td>\n",
       "      <td>1.0</td>\n",
       "      <td>2</td>\n",
       "      <td>138</td>\n",
       "      <td>223</td>\n",
       "      <td>0</td>\n",
       "      <td>1</td>\n",
       "      <td>169</td>\n",
       "      <td>0</td>\n",
       "      <td>0.0</td>\n",
       "      <td>2</td>\n",
       "      <td>4</td>\n",
       "      <td>2</td>\n",
       "      <td>1</td>\n",
       "    </tr>\n",
       "    <tr>\n",
       "      <th>158</th>\n",
       "      <td>58</td>\n",
       "      <td>1.0</td>\n",
       "      <td>1</td>\n",
       "      <td>125</td>\n",
       "      <td>220</td>\n",
       "      <td>0</td>\n",
       "      <td>1</td>\n",
       "      <td>144</td>\n",
       "      <td>0</td>\n",
       "      <td>0.4</td>\n",
       "      <td>1</td>\n",
       "      <td>4</td>\n",
       "      <td>3</td>\n",
       "      <td>1</td>\n",
       "    </tr>\n",
       "    <tr>\n",
       "      <th>163</th>\n",
       "      <td>38</td>\n",
       "      <td>1.0</td>\n",
       "      <td>2</td>\n",
       "      <td>138</td>\n",
       "      <td>175</td>\n",
       "      <td>0</td>\n",
       "      <td>1</td>\n",
       "      <td>173</td>\n",
       "      <td>0</td>\n",
       "      <td>0.0</td>\n",
       "      <td>2</td>\n",
       "      <td>4</td>\n",
       "      <td>2</td>\n",
       "      <td>1</td>\n",
       "    </tr>\n",
       "    <tr>\n",
       "      <th>164</th>\n",
       "      <td>38</td>\n",
       "      <td>1.0</td>\n",
       "      <td>2</td>\n",
       "      <td>138</td>\n",
       "      <td>175</td>\n",
       "      <td>0</td>\n",
       "      <td>1</td>\n",
       "      <td>173</td>\n",
       "      <td>0</td>\n",
       "      <td>0.0</td>\n",
       "      <td>2</td>\n",
       "      <td>4</td>\n",
       "      <td>2</td>\n",
       "      <td>1</td>\n",
       "    </tr>\n",
       "    <tr>\n",
       "      <th>251</th>\n",
       "      <td>43</td>\n",
       "      <td>1.0</td>\n",
       "      <td>0</td>\n",
       "      <td>132</td>\n",
       "      <td>247</td>\n",
       "      <td>1</td>\n",
       "      <td>0</td>\n",
       "      <td>143</td>\n",
       "      <td>1</td>\n",
       "      <td>0.1</td>\n",
       "      <td>1</td>\n",
       "      <td>4</td>\n",
       "      <td>3</td>\n",
       "      <td>0</td>\n",
       "    </tr>\n",
       "  </tbody>\n",
       "</table>\n",
       "</div>"
      ],
      "text/plain": [
       "     age  gender cp  trestbps  chol fbs restecg  thalach exang  oldpeak slope  \\\n",
       "92    52     1.0  2       138   223   0       1      169     0      0.0     2   \n",
       "158   58     1.0  1       125   220   0       1      144     0      0.4     1   \n",
       "163   38     1.0  2       138   175   0       1      173     0      0.0     2   \n",
       "164   38     1.0  2       138   175   0       1      173     0      0.0     2   \n",
       "251   43     1.0  0       132   247   1       0      143     1      0.1     1   \n",
       "\n",
       "    ca thal  target  \n",
       "92   4    2       1  \n",
       "158  4    3       1  \n",
       "163  4    2       1  \n",
       "164  4    2       1  \n",
       "251  4    3       0  "
      ]
     },
     "execution_count": 33,
     "metadata": {},
     "output_type": "execute_result"
    }
   ],
   "source": [
    "# to count the number in of each category decending order\n",
    "print(df.ca.value_counts())\n",
    "\n",
    "df[df['ca']==4]"
   ]
  },
  {
   "cell_type": "code",
   "execution_count": 35,
   "id": "3274d3bf-20b1-4b68-8612-2b2846f5b546",
   "metadata": {},
   "outputs": [],
   "source": [
    "df.loc[df['ca']==4,'ca']=np.NaN"
   ]
  },
  {
   "cell_type": "code",
   "execution_count": 37,
   "id": "61ba3508-cbfc-456f-b9e1-d1a8ee42ebda",
   "metadata": {},
   "outputs": [
    {
     "data": {
      "text/plain": [
       "array([0, 2, 1, 3, nan], dtype=object)"
      ]
     },
     "execution_count": 37,
     "metadata": {},
     "output_type": "execute_result"
    }
   ],
   "source": [
    "df['ca'].unique()"
   ]
  },
  {
   "cell_type": "code",
   "execution_count": 39,
   "id": "6a5af7d1-1ba7-4cd8-89e1-301fb97585f2",
   "metadata": {},
   "outputs": [
    {
     "data": {
      "text/plain": [
       "array([1, 2, 3, 0], dtype=object)"
      ]
     },
     "execution_count": 39,
     "metadata": {},
     "output_type": "execute_result"
    }
   ],
   "source": [
    "df['thal'].unique()"
   ]
  },
  {
   "cell_type": "code",
   "execution_count": 41,
   "id": "715ed166-9df6-4ebf-8e8a-5d160839af9d",
   "metadata": {},
   "outputs": [
    {
     "data": {
      "text/plain": [
       "thal\n",
       "2    166\n",
       "3    117\n",
       "1     18\n",
       "0      2\n",
       "Name: count, dtype: int64"
      ]
     },
     "execution_count": 41,
     "metadata": {},
     "output_type": "execute_result"
    }
   ],
   "source": [
    "df.thal.value_counts()"
   ]
  },
  {
   "cell_type": "code",
   "execution_count": 43,
   "id": "12a08ac0-ccf2-4ef9-9e54-013e4816cb5d",
   "metadata": {},
   "outputs": [],
   "source": [
    "df.loc[df['thal']==0,'thal']=np.NaN"
   ]
  },
  {
   "cell_type": "code",
   "execution_count": 45,
   "id": "c9009997-2b2e-4bf9-b528-6f323d03e83d",
   "metadata": {},
   "outputs": [
    {
     "data": {
      "text/plain": [
       "array([1, 2, 3, nan], dtype=object)"
      ]
     },
     "execution_count": 45,
     "metadata": {},
     "output_type": "execute_result"
    }
   ],
   "source": [
    "df['thal'].unique()"
   ]
  },
  {
   "cell_type": "code",
   "execution_count": 47,
   "id": "7314021e-84ff-4d5b-aeaf-c6946550f2e4",
   "metadata": {},
   "outputs": [
    {
     "data": {
      "text/plain": [
       "age         0\n",
       "gender      0\n",
       "cp          0\n",
       "trestbps    0\n",
       "chol        0\n",
       "fbs         0\n",
       "restecg     0\n",
       "thalach     0\n",
       "exang       0\n",
       "oldpeak     0\n",
       "slope       0\n",
       "ca          5\n",
       "thal        2\n",
       "target      0\n",
       "dtype: int64"
      ]
     },
     "execution_count": 47,
     "metadata": {},
     "output_type": "execute_result"
    }
   ],
   "source": [
    "df.isna().sum()"
   ]
  },
  {
   "cell_type": "code",
   "execution_count": 49,
   "id": "cbdd6de8-b1a1-4f1d-be0c-f95d764a19b5",
   "metadata": {},
   "outputs": [
    {
     "data": {
      "text/plain": [
       "age          63\n",
       "gender      1.0\n",
       "cp            3\n",
       "trestbps    145\n",
       "chol        233\n",
       "fbs           1\n",
       "restecg       0\n",
       "thalach     150\n",
       "exang         0\n",
       "oldpeak     2.3\n",
       "slope         0\n",
       "ca            0\n",
       "thal          1\n",
       "target        1\n",
       "Name: 0, dtype: object"
      ]
     },
     "execution_count": 49,
     "metadata": {},
     "output_type": "execute_result"
    }
   ],
   "source": [
    "df.iloc[0]"
   ]
  },
  {
   "cell_type": "code",
   "execution_count": 51,
   "id": "97bcdeb9-b5e9-4c0c-9907-1f1ac7341683",
   "metadata": {},
   "outputs": [
    {
     "name": "stdout",
     "output_type": "stream",
     "text": [
      "    age  gender   cp  trestbps  chol  fbs restecg  thalach exang  oldpeak  \\\n",
      "0  58.0     1.0    0     120.0   197    0       1    162.0     0      0.0   \n",
      "1   NaN     NaN  NaN       NaN   204  NaN     NaN      NaN   NaN      NaN   \n",
      "2   NaN     NaN  NaN       NaN   234  NaN     NaN      NaN   NaN      NaN   \n",
      "\n",
      "  slope   ca thal  target  \n",
      "0     2    0    2     1.0  \n",
      "1   NaN  NaN  NaN     NaN  \n",
      "2   NaN  NaN  NaN     NaN  \n",
      "age          58.0\n",
      "gender        1.0\n",
      "cp              0\n",
      "trestbps    120.0\n",
      "chol          197\n",
      "fbs             0\n",
      "restecg         1\n",
      "thalach     162.0\n",
      "exang           0\n",
      "oldpeak       0.0\n",
      "slope           2\n",
      "ca              0\n",
      "thal            2\n",
      "target        1.0\n",
      "Name: 0, dtype: object\n"
     ]
    }
   ],
   "source": [
    "print(df.mode())\n",
    "print(df.mode().iloc[0])"
   ]
  },
  {
   "cell_type": "code",
   "execution_count": 53,
   "id": "c50cd99f-9444-4c76-adf0-8af8c58fb6ab",
   "metadata": {},
   "outputs": [
    {
     "name": "stdout",
     "output_type": "stream",
     "text": [
      "age          54.366337\n",
      "gender        0.683168\n",
      "cp            0.966997\n",
      "trestbps    131.623762\n",
      "chol        246.264026\n",
      "fbs           0.148515\n",
      "restecg       0.528053\n",
      "thalach     149.646865\n",
      "exang         0.326733\n",
      "oldpeak       1.039604\n",
      "slope          1.39934\n",
      "ca            0.674497\n",
      "thal          2.328904\n",
      "target        0.544554\n",
      "dtype: object\n",
      "age          54.366337\n",
      "gender        0.683168\n",
      "cp            0.966997\n",
      "trestbps    131.623762\n",
      "chol        246.264026\n",
      "fbs           0.148515\n",
      "restecg       0.528053\n",
      "thalach     149.646865\n",
      "exang         0.326733\n",
      "oldpeak       1.039604\n",
      "slope          1.39934\n",
      "ca            0.674497\n",
      "thal          2.328904\n",
      "target        0.544554\n",
      "dtype: object\n"
     ]
    }
   ],
   "source": [
    "print(df.mean())\n",
    "print(df.mean().iloc[0:14])"
   ]
  },
  {
   "cell_type": "code",
   "execution_count": 57,
   "id": "e1639fec-8b08-41d4-88a6-15e6daa532f3",
   "metadata": {},
   "outputs": [
    {
     "data": {
      "text/plain": [
       "age         0\n",
       "gender      0\n",
       "cp          0\n",
       "trestbps    0\n",
       "chol        0\n",
       "fbs         0\n",
       "restecg     0\n",
       "thalach     0\n",
       "exang       0\n",
       "oldpeak     0\n",
       "slope       0\n",
       "ca          0\n",
       "thal        0\n",
       "target      0\n",
       "dtype: int64"
      ]
     },
     "execution_count": 57,
     "metadata": {},
     "output_type": "execute_result"
    }
   ],
   "source": [
    "#df = df.fillna(df.median())\n",
    "df = df.fillna(df.mode().iloc[0])\n",
    "df.isnull().sum()"
   ]
  },
  {
   "cell_type": "code",
   "execution_count": 59,
   "id": "0124e75a-ca72-42e1-a1cf-f28817f61c9d",
   "metadata": {},
   "outputs": [
    {
     "name": "stdout",
     "output_type": "stream",
     "text": [
      "     age  gender  cp  trestbps  chol  fbs  restecg  thalach  exang  oldpeak  \\\n",
      "164   38     1.0   2       138   175    0        1      173      0      0.0   \n",
      "\n",
      "     slope  ca  thal  target  \n",
      "164      2   0     2       1  \n"
     ]
    }
   ],
   "source": [
    "duplicates = df[df.duplicated()]\n",
    "print(duplicates)"
   ]
  },
  {
   "cell_type": "code",
   "execution_count": 61,
   "id": "97fdaa2a-a92a-40e9-9e52-5d5a96868a19",
   "metadata": {},
   "outputs": [
    {
     "name": "stdout",
     "output_type": "stream",
     "text": [
      "     age  gender  cp  trestbps  chol  fbs  restecg  thalach  exang  oldpeak  \\\n",
      "0     63     1.0   3       145   233    1        0      150      0      2.3   \n",
      "1     37     1.0   2       130   250    0        1      187      0      3.5   \n",
      "2     41     0.0   1       130   204    0        0      172      0      1.4   \n",
      "3     56     1.0   1       120   236    0        1      178      0      0.8   \n",
      "4     57     0.0   0       120   354    0        1      163      1      0.6   \n",
      "..   ...     ...  ..       ...   ...  ...      ...      ...    ...      ...   \n",
      "298   57     0.0   0       140   241    0        1      123      1      0.2   \n",
      "299   45     1.0   3       110   264    0        1      132      0      1.2   \n",
      "300   68     1.0   0       144   193    1        1      141      0      3.4   \n",
      "301   57     1.0   0       130   131    0        1      115      1      1.2   \n",
      "302   57     0.0   1       130   236    0        0      174      0      0.0   \n",
      "\n",
      "     slope  ca  thal  target  \n",
      "0        0   0     1       1  \n",
      "1        0   0     2       1  \n",
      "2        2   0     2       1  \n",
      "3        2   0     2       1  \n",
      "4        2   0     2       1  \n",
      "..     ...  ..   ...     ...  \n",
      "298      1   0     3       0  \n",
      "299      1   0     3       0  \n",
      "300      1   2     3       0  \n",
      "301      1   1     3       0  \n",
      "302      1   1     2       0  \n",
      "\n",
      "[302 rows x 14 columns]\n"
     ]
    }
   ],
   "source": [
    "df_cleaned = df.drop_duplicates()\n",
    "print(df_cleaned)"
   ]
  },
  {
   "cell_type": "code",
   "execution_count": 63,
   "id": "63108bd6-9c73-489d-8c1e-6552bf24d578",
   "metadata": {},
   "outputs": [],
   "source": [
    "#df['A'].fillna('Unknown', inplace=True)  #replace with specific value\n",
    "#df['A'].fillna(df['A'].mean(), inplace=True)  #replace with mean\n",
    "#df.drop('gender', axis=1, inplace=True)      #to drop coloumn"
   ]
  },
  {
   "cell_type": "code",
   "execution_count": null,
   "id": "1b9beefb-b7a4-484d-86db-35d3216032ce",
   "metadata": {},
   "outputs": [],
   "source": []
  }
 ],
 "metadata": {
  "kernelspec": {
   "display_name": "Python 3 (ipykernel)",
   "language": "python",
   "name": "python3"
  },
  "language_info": {
   "codemirror_mode": {
    "name": "ipython",
    "version": 3
   },
   "file_extension": ".py",
   "mimetype": "text/x-python",
   "name": "python",
   "nbconvert_exporter": "python",
   "pygments_lexer": "ipython3",
   "version": "3.12.4"
  }
 },
 "nbformat": 4,
 "nbformat_minor": 5
}
