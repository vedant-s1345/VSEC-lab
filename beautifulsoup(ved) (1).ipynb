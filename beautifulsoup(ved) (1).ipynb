{
 "cells": [
  {
   "cell_type": "code",
   "execution_count": 1,
   "id": "edc4f155-8874-40b1-9865-a8a85c73e647",
   "metadata": {},
   "outputs": [],
   "source": [
    "#PIP INSTALL REQUESTS BEAUTIFULSOUP4 PANDAS\n",
    "import requests\n",
    "from bs4 import BeautifulSoup\n",
    "import pandas as pd"
   ]
  },
  {
   "cell_type": "code",
   "execution_count": 2,
   "id": "0e43894b-3bf2-4442-a707-f747563637df",
   "metadata": {},
   "outputs": [],
   "source": [
    "url='https://en.wikipedia.org/wiki/Animal'\n",
    "response=requests.get(url)"
   ]
  },
  {
   "cell_type": "code",
   "execution_count": 5,
   "id": "19e0da8a-4a05-43a5-ab59-a3e3bfd6b3a1",
   "metadata": {},
   "outputs": [],
   "source": [
    "soup=BeautifulSoup(response.content,'html.parser')"
   ]
  },
  {
   "cell_type": "code",
   "execution_count": 7,
   "id": "595976c8-523a-4882-9e02-33ec8777cdb4",
   "metadata": {},
   "outputs": [],
   "source": [
    "table=soup.find('table',{'class':'wikitable'})"
   ]
  },
  {
   "cell_type": "code",
   "execution_count": 9,
   "id": "e59acd71-bca7-444a-92cb-99b33d486391",
   "metadata": {},
   "outputs": [
    {
     "name": "stdout",
     "output_type": "stream",
     "text": [
      "<th><a href=\"/wiki/Phylum\" title=\"Phylum\">Phylum</a>\n",
      "</th>\n",
      "<th class=\"unsortable\">Example\n",
      "</th>\n",
      "<th>Described species\n",
      "</th>\n",
      "<th><a href=\"/wiki/Terrestrial_animal\" title=\"Terrestrial animal\">Land</a>\n",
      "</th>\n",
      "<th><a class=\"mw-redirect\" href=\"/wiki/Marine_animals\" title=\"Marine animals\">Sea</a>\n",
      "</th>\n",
      "<th><a href=\"/wiki/Fresh_water#Aquatic_organisms\" title=\"Fresh water\">Freshwater</a>\n",
      "</th>\n",
      "<th>Free-living\n",
      "</th>\n",
      "<th><a class=\"mw-redirect\" href=\"/wiki/Parasite\" title=\"Parasite\">Parasitic</a>\n",
      "</th>\n",
      "<th colspan=\"8\"><div class=\"center\" style=\"width:auto; margin-left:auto; margin-right:auto;\">Total number of described extant species as of 2013<sup class=\"plainlinks noexcerpt noprint asof-tag update\" style=\"display:none;\"><a class=\"external text\" href=\"https://en.wikipedia.org/w/index.php?title=Animal&amp;action=edit\">[update]</a></sup>: 1,525,728<sup class=\"reference\" id=\"cite_ref-Zhang2013_69-14\"><a href=\"#cite_note-Zhang2013-69\"><span class=\"cite-bracket\">[</span>68<span class=\"cite-bracket\">]</span></a></sup></div>\n",
      "</th>\n"
     ]
    }
   ],
   "source": [
    "#extract table headers\n",
    "headers=[]\n",
    "for th in table.find_all('th'):\n",
    "    print(th)\n",
    "    header_text=th.text.strip()\n",
    "    headers.append(header_text)"
   ]
  },
  {
   "cell_type": "code",
   "execution_count": 11,
   "id": "776f36b9-903b-462c-b61d-63b49e82531e",
   "metadata": {},
   "outputs": [
    {
     "name": "stdout",
     "output_type": "stream",
     "text": [
      "Phylum\n",
      "Example\n",
      "Described species\n",
      "Land\n",
      "Sea\n",
      "Freshwater\n",
      "Free-living\n",
      "Parasitic\n",
      "Total number of described extant species as of 2013[update]: 1,525,728[68]\n",
      "9\n"
     ]
    }
   ],
   "source": [
    "#extract table headers\n",
    "headers=[]\n",
    "for th in table.find_all('th'):\n",
    "    header_text=th.text.strip()\n",
    "    print(header_text)\n",
    "    headers.append(header_text)\n",
    "\n",
    "print(len(headers))"
   ]
  },
  {
   "cell_type": "code",
   "execution_count": 27,
   "id": "3ad60a88-4c73-4676-9743-222aa698979e",
   "metadata": {},
   "outputs": [],
   "source": [
    "#step 5: Extract table rows\n",
    "rows=[]\n",
    "for tr in table.find_all('tr'):\n",
    "    #get all cells (both header and data cells)\n",
    "    cells=tr.find_all(['td'])\n",
    "    row = [cell.get_text(strip=True) for cell in cells]\n",
    "\n",
    "    #only add rows that have at least one cell\n",
    "    if row:\n",
    "        rows.append(row)"
   ]
  },
  {
   "cell_type": "code",
   "execution_count": 29,
   "id": "13352a04-f70e-4f3f-bc82-802d030d0fc6",
   "metadata": {},
   "outputs": [],
   "source": [
    "#step 6: Handle cases where rows have fewer or more columns than headers\n",
    "#pad rows with missing values (none) or truncate them to match the number of headers\n",
    "cleaned_rows=[]\n",
    "for row in rows:\n",
    "    if len(row)<len(headers):\n",
    "        #pad the row if it's shorter than headers\n",
    "        row.extend([None]*(len(headers)-len(row)))\n",
    "    elif len(row)> len(headers):\n",
    "        #Truncate the row if iy's longer than headers\n",
    "        row=row[:len(headers)]\n",
    "    cleaned_rows.append(row)"
   ]
  },
  {
   "cell_type": "code",
   "execution_count": 31,
   "id": "9f524666-c2df-4511-8928-5ce0e0c951f9",
   "metadata": {},
   "outputs": [
    {
     "name": "stdout",
     "output_type": "stream",
     "text": [
      "            Phylum Example      Described species                        Land  \\\n",
      "0       Arthropoda                  1,257,000[68]  Yes 1,000,000(insects)[76]   \n",
      "1         Mollusca          85,000[68]107,000[78]              Yes 35,000[78]   \n",
      "2         Chordata                >70,000[68][79]              Yes 23,000[80]   \n",
      "3  Platyhelminthes                     29,500[68]                     Yes[82]   \n",
      "4         Nematoda                     25,000[68]              Yes (soil)[70]   \n",
      "\n",
      "                              Sea               Freshwater  \\\n",
      "0  Yes >40,000(Malac-ostraca)[77]           Yes 94,000[69]   \n",
      "1                  Yes 60,000[78]  Yes 5,000[69]12,000[78]   \n",
      "2                  Yes 13,000[80]  Yes 18,000[69]9,000[80]   \n",
      "3                         Yes[70]            Yes 1,300[69]   \n",
      "4                   Yes 4,000[72]            Yes 2,000[69]   \n",
      "\n",
      "              Free-living                        Parasitic  \\\n",
      "0                 Yes[70]               Yes >45,000[c][71]   \n",
      "1                 Yes[70]                   Yes >5,600[71]   \n",
      "2                     Yes          Yes 40(catfish)[81][71]   \n",
      "3  Yes[70]3,000–6,500[83]  Yes >40,000[71]4,000–25,000[83]   \n",
      "4           Yes11,000[72]                   Yes 14,000[72]   \n",
      "\n",
      "  Total number of described extant species as of 2013[update]: 1,525,728[68]  \n",
      "0                                               None                          \n",
      "1                                               None                          \n",
      "2                                               None                          \n",
      "3                                               None                          \n",
      "4                                               None                          \n"
     ]
    }
   ],
   "source": [
    "#step 7: create a dataframe from the cleaned rows\n",
    "df=pd.DataFrame(cleaned_rows,columns=headers)\n",
    "\n",
    "#Display the first few rows of the Dataframe\n",
    "print(df.head())"
   ]
  },
  {
   "cell_type": "code",
   "execution_count": 25,
   "id": "f652495c-fe0f-4f3d-9d3f-27a21ab6636b",
   "metadata": {},
   "outputs": [
    {
     "name": "stdout",
     "output_type": "stream",
     "text": [
      "                                               Phylum Example  \\\n",
      "2                                            Mollusca           \n",
      "3                                            Chordata           \n",
      "4                                     Platyhelminthes           \n",
      "5                                            Nematoda           \n",
      "6                                            Annelida           \n",
      "7                                            Cnidaria           \n",
      "8                                            Porifera           \n",
      "9                                       Echinodermata           \n",
      "10                                            Bryozoa           \n",
      "11                                           Rotifera           \n",
      "12                                           Nemertea           \n",
      "13                                         Tardigrada           \n",
      "14  Total number of described extant species as of...    None   \n",
      "\n",
      "        Described species                   Land             Sea  \\\n",
      "2   85,000[68]107,000[78]         Yes 35,000[78]  Yes 60,000[78]   \n",
      "3         >70,000[68][79]         Yes 23,000[80]  Yes 13,000[80]   \n",
      "4              29,500[68]                Yes[82]         Yes[70]   \n",
      "5              25,000[68]         Yes (soil)[70]   Yes 4,000[72]   \n",
      "6              17,000[68]         Yes (soil)[70]         Yes[70]   \n",
      "7              16,000[68]                                Yes[70]   \n",
      "8              10,800[68]                                Yes[70]   \n",
      "9               7,500[68]                          Yes 7,500[68]   \n",
      "10              6,000[68]                                Yes[70]   \n",
      "11              2,000[68]                           Yes >400[85]   \n",
      "12          1,350[86][87]                                    Yes   \n",
      "13              1,335[68]  Yes[88](moist plants)             Yes   \n",
      "14                   None                   None            None   \n",
      "\n",
      "                 Freshwater             Free-living  \\\n",
      "2   Yes 5,000[69]12,000[78]                 Yes[70]   \n",
      "3   Yes 18,000[69]9,000[80]                     Yes   \n",
      "4             Yes 1,300[69]  Yes[70]3,000–6,500[83]   \n",
      "5             Yes 2,000[69]           Yes11,000[72]   \n",
      "6             Yes 1,750[69]                     Yes   \n",
      "7             Yes (few)[70]                 Yes[70]   \n",
      "8               200–300[69]                     Yes   \n",
      "9                                           Yes[70]   \n",
      "10            Yes 60–80[69]                     Yes   \n",
      "11            Yes 2,000[69]                     Yes   \n",
      "12                      Yes                     Yes   \n",
      "13                      Yes                     Yes   \n",
      "14                     None                    None   \n",
      "\n",
      "                          Parasitic  \\\n",
      "2                    Yes >5,600[71]   \n",
      "3           Yes 40(catfish)[81][71]   \n",
      "4   Yes >40,000[71]4,000–25,000[83]   \n",
      "5                    Yes 14,000[72]   \n",
      "6                       Yes 400[71]   \n",
      "7           Yes >1,350(Myxozoa)[71]   \n",
      "8                           Yes[84]   \n",
      "9                                     \n",
      "10                                    \n",
      "11                                    \n",
      "12                                    \n",
      "13                                    \n",
      "14                             None   \n",
      "\n",
      "   Total number of described extant species as of 2013[update]: 1,525,728[68]  \n",
      "2                                                None                          \n",
      "3                                                None                          \n",
      "4                                                None                          \n",
      "5                                                None                          \n",
      "6                                                None                          \n",
      "7                                                None                          \n",
      "8                                                None                          \n",
      "9                                                None                          \n",
      "10                                               None                          \n",
      "11                                               None                          \n",
      "12                                               None                          \n",
      "13                                               None                          \n",
      "14                                               None                          \n"
     ]
    }
   ],
   "source": [
    "df=df[1:]\n",
    "print(df)"
   ]
  },
  {
   "cell_type": "code",
   "execution_count": null,
   "id": "8dcc3fa6-5374-4c28-9b6c-0c721fc76525",
   "metadata": {},
   "outputs": [],
   "source": []
  },
  {
   "cell_type": "code",
   "execution_count": null,
   "id": "54d805c5-ad0e-45ca-8184-d7f2b75a6563",
   "metadata": {},
   "outputs": [],
   "source": []
  },
  {
   "cell_type": "code",
   "execution_count": null,
   "id": "e44f59ba-38a5-4a22-a511-005f6653bb9d",
   "metadata": {},
   "outputs": [],
   "source": []
  }
 ],
 "metadata": {
  "kernelspec": {
   "display_name": "Python 3 (ipykernel)",
   "language": "python",
   "name": "python3"
  },
  "language_info": {
   "codemirror_mode": {
    "name": "ipython",
    "version": 3
   },
   "file_extension": ".py",
   "mimetype": "text/x-python",
   "name": "python",
   "nbconvert_exporter": "python",
   "pygments_lexer": "ipython3",
   "version": "3.12.4"
  }
 },
 "nbformat": 4,
 "nbformat_minor": 5
}
